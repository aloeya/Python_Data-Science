{
  "nbformat": 4,
  "nbformat_minor": 0,
  "metadata": {
    "colab": {
      "name": "Installments_payments.ipynb",
      "version": "0.3.2",
      "provenance": [],
      "include_colab_link": true
    }
  },
  "cells": [
    {
      "cell_type": "markdown",
      "metadata": {
        "id": "view-in-github",
        "colab_type": "text"
      },
      "source": [
        "[View in Colaboratory](https://colab.research.google.com/github/aloeya/Python_Data-Science/blob/master/Read_data_from_google_drive.ipynb)"
      ]
    },
    {
      "metadata": {
        "id": "q6Hnr_0BhFuB",
        "colab_type": "code",
        "colab": {
          "base_uri": "https://localhost:8080/",
          "height": 107
        },
        "outputId": "ebdfd3f8-b85d-4349-e3ac-9fbb50c1ec3d"
      },
      "cell_type": "code",
      "source": [
        "!apt-get install -y -qq software-properties-common python-software-properties module-init-tools\n",
        "!add-apt-repository -y ppa:alessandro-strada/ppa 2>&1 > /dev/null\n",
        "!apt-get update -qq 2>&1 > /dev/null\n",
        "!apt-get -y install -qq google-drive-ocamlfuse fuse\n",
        "from google.colab import auth\n",
        "auth.authenticate_user()\n",
        "from oauth2client.client import GoogleCredentials\n",
        "creds = GoogleCredentials.get_application_default()\n",
        "import getpass\n",
        "!google-drive-ocamlfuse -headless -id={creds.client_id} -secret={creds.client_secret} < /dev/null 2>&1 | grep URL\n",
        "vcode = getpass.getpass()\n",
        "!echo {vcode} | google-drive-ocamlfuse -headless -id={creds.client_id} -secret={creds.client_secret}"
      ],
      "execution_count": 1,
      "outputs": [
        {
          "output_type": "stream",
          "text": [
            "Please, open the following URL in a web browser: https://accounts.google.com/o/oauth2/auth?client_id=32555940559.apps.googleusercontent.com&redirect_uri=urn%3Aietf%3Awg%3Aoauth%3A2.0%3Aoob&scope=https%3A%2F%2Fwww.googleapis.com%2Fauth%2Fdrive&response_type=code&access_type=offline&approval_prompt=force\r\n",
            "··········\n",
            "Please, open the following URL in a web browser: https://accounts.google.com/o/oauth2/auth?client_id=32555940559.apps.googleusercontent.com&redirect_uri=urn%3Aietf%3Awg%3Aoauth%3A2.0%3Aoob&scope=https%3A%2F%2Fwww.googleapis.com%2Fauth%2Fdrive&response_type=code&access_type=offline&approval_prompt=force\n",
            "Please enter the verification code: Access token retrieved correctly.\n"
          ],
          "name": "stdout"
        }
      ]
    },
    {
      "metadata": {
        "id": "-rYG-Lsshg09",
        "colab_type": "code",
        "colab": {}
      },
      "cell_type": "code",
      "source": [
        "!pip install -q keras"
      ],
      "execution_count": 0,
      "outputs": []
    },
    {
      "metadata": {
        "id": "mjfKAaIchl5B",
        "colab_type": "code",
        "colab": {
          "base_uri": "https://localhost:8080/",
          "height": 263
        },
        "outputId": "caac1a5c-aee0-463c-a07b-744226590700"
      },
      "cell_type": "code",
      "source": [
        "! pip install pydrive\n",
        "# these classes allow you to request the Google drive API\n",
        "from pydrive.auth import GoogleAuth\n",
        "from pydrive.drive import GoogleDrive \n",
        "from google.colab import auth \n",
        "from oauth2client.client import GoogleCredentials"
      ],
      "execution_count": 5,
      "outputs": [
        {
          "output_type": "stream",
          "text": [
            "Collecting pydrive\n",
            "  Downloading https://files.pythonhosted.org/packages/6b/2d/c8e052ba51099faee0bfe71d84f35bb1576e6910483cad46b840a122ca6c/PyDrive-1.3.1-py2-none-any.whl\n",
            "Requirement already satisfied: PyYAML>=3.0 in /usr/local/lib/python2.7/dist-packages (from pydrive) (3.13)\n",
            "Requirement already satisfied: oauth2client>=4.0.0 in /usr/local/lib/python2.7/dist-packages (from pydrive) (4.1.2)\n",
            "Requirement already satisfied: google-api-python-client>=1.2 in /usr/local/lib/python2.7/dist-packages (from pydrive) (1.6.7)\n",
            "Requirement already satisfied: httplib2>=0.9.1 in /usr/local/lib/python2.7/dist-packages (from oauth2client>=4.0.0->pydrive) (0.11.3)\n",
            "Requirement already satisfied: rsa>=3.1.4 in /usr/local/lib/python2.7/dist-packages (from oauth2client>=4.0.0->pydrive) (3.4.2)\n",
            "Requirement already satisfied: pyasn1>=0.1.7 in /usr/local/lib/python2.7/dist-packages (from oauth2client>=4.0.0->pydrive) (0.4.4)\n",
            "Requirement already satisfied: pyasn1-modules>=0.0.5 in /usr/local/lib/python2.7/dist-packages (from oauth2client>=4.0.0->pydrive) (0.2.2)\n",
            "Requirement already satisfied: six>=1.6.1 in /usr/local/lib/python2.7/dist-packages (from oauth2client>=4.0.0->pydrive) (1.11.0)\n",
            "Requirement already satisfied: uritemplate<4dev,>=3.0.0 in /usr/local/lib/python2.7/dist-packages (from google-api-python-client>=1.2->pydrive) (3.0.0)\n",
            "Installing collected packages: pydrive\n",
            "Successfully installed pydrive-1.3.1\n"
          ],
          "name": "stdout"
        }
      ]
    },
    {
      "metadata": {
        "id": "ICJzBysBinu0",
        "colab_type": "code",
        "colab": {}
      },
      "cell_type": "code",
      "source": [
        "auth.authenticate_user()\n",
        "gauth = GoogleAuth()\n",
        "gauth.credentials = GoogleCredentials.get_application_default()\n",
        "drive = GoogleDrive(gauth)"
      ],
      "execution_count": 0,
      "outputs": []
    },
    {
      "metadata": {
        "id": "BCo2gFTlircj",
        "colab_type": "code",
        "colab": {}
      },
      "cell_type": "code",
      "source": [
        "file_id = \"1MfGldhCW1-JoYzeWdFwqL17ZJQXxE16E\""
      ],
      "execution_count": 0,
      "outputs": []
    },
    {
      "metadata": {
        "id": "HmKV4jiajCRM",
        "colab_type": "code",
        "colab": {}
      },
      "cell_type": "code",
      "source": [
        "downloaded = drive.CreateFile({'id': file_id})\n",
        "# allows you to temporarily load your file in the notebook VM\n",
        "\n",
        "# assume the file is called file.csv and it's located at the root of your drive\n",
        "downloaded.GetContentFile('Copy of installments_payments.csv')"
      ],
      "execution_count": 0,
      "outputs": []
    },
    {
      "metadata": {
        "id": "ZeDYTcgplinX",
        "colab_type": "code",
        "colab": {}
      },
      "cell_type": "code",
      "source": [
        "import pandas as pd"
      ],
      "execution_count": 0,
      "outputs": []
    },
    {
      "metadata": {
        "id": "wHXfwc8Ulces",
        "colab_type": "code",
        "colab": {}
      },
      "cell_type": "code",
      "source": [
        "data = pd.read_csv('Copy of installments_payments.csv')"
      ],
      "execution_count": 0,
      "outputs": []
    },
    {
      "metadata": {
        "id": "ylt5Sk7Gj747",
        "colab_type": "code",
        "colab": {
          "base_uri": "https://localhost:8080/",
          "height": 202
        },
        "outputId": "5b15f423-aca6-4cca-b674-e7c6fe8511e8"
      },
      "cell_type": "code",
      "source": [
        "data.head()"
      ],
      "execution_count": 26,
      "outputs": [
        {
          "output_type": "execute_result",
          "data": {
            "text/html": [
              "<div>\n",
              "<style scoped>\n",
              "    .dataframe tbody tr th:only-of-type {\n",
              "        vertical-align: middle;\n",
              "    }\n",
              "\n",
              "    .dataframe tbody tr th {\n",
              "        vertical-align: top;\n",
              "    }\n",
              "\n",
              "    .dataframe thead th {\n",
              "        text-align: right;\n",
              "    }\n",
              "</style>\n",
              "<table border=\"1\" class=\"dataframe\">\n",
              "  <thead>\n",
              "    <tr style=\"text-align: right;\">\n",
              "      <th></th>\n",
              "      <th>SK_ID_PREV</th>\n",
              "      <th>SK_ID_CURR</th>\n",
              "      <th>NUM_INSTALMENT_VERSION</th>\n",
              "      <th>NUM_INSTALMENT_NUMBER</th>\n",
              "      <th>DAYS_INSTALMENT</th>\n",
              "      <th>DAYS_ENTRY_PAYMENT</th>\n",
              "      <th>AMT_INSTALMENT</th>\n",
              "      <th>AMT_PAYMENT</th>\n",
              "    </tr>\n",
              "  </thead>\n",
              "  <tbody>\n",
              "    <tr>\n",
              "      <th>0</th>\n",
              "      <td>1054186</td>\n",
              "      <td>161674</td>\n",
              "      <td>1.0</td>\n",
              "      <td>6</td>\n",
              "      <td>-1180.0</td>\n",
              "      <td>-1187.0</td>\n",
              "      <td>6948.360</td>\n",
              "      <td>6948.360</td>\n",
              "    </tr>\n",
              "    <tr>\n",
              "      <th>1</th>\n",
              "      <td>1330831</td>\n",
              "      <td>151639</td>\n",
              "      <td>0.0</td>\n",
              "      <td>34</td>\n",
              "      <td>-2156.0</td>\n",
              "      <td>-2156.0</td>\n",
              "      <td>1716.525</td>\n",
              "      <td>1716.525</td>\n",
              "    </tr>\n",
              "    <tr>\n",
              "      <th>2</th>\n",
              "      <td>2085231</td>\n",
              "      <td>193053</td>\n",
              "      <td>2.0</td>\n",
              "      <td>1</td>\n",
              "      <td>-63.0</td>\n",
              "      <td>-63.0</td>\n",
              "      <td>25425.000</td>\n",
              "      <td>25425.000</td>\n",
              "    </tr>\n",
              "    <tr>\n",
              "      <th>3</th>\n",
              "      <td>2452527</td>\n",
              "      <td>199697</td>\n",
              "      <td>1.0</td>\n",
              "      <td>3</td>\n",
              "      <td>-2418.0</td>\n",
              "      <td>-2426.0</td>\n",
              "      <td>24350.130</td>\n",
              "      <td>24350.130</td>\n",
              "    </tr>\n",
              "    <tr>\n",
              "      <th>4</th>\n",
              "      <td>2714724</td>\n",
              "      <td>167756</td>\n",
              "      <td>1.0</td>\n",
              "      <td>2</td>\n",
              "      <td>-1383.0</td>\n",
              "      <td>-1366.0</td>\n",
              "      <td>2165.040</td>\n",
              "      <td>2160.585</td>\n",
              "    </tr>\n",
              "  </tbody>\n",
              "</table>\n",
              "</div>"
            ],
            "text/plain": [
              "   SK_ID_PREV  SK_ID_CURR  NUM_INSTALMENT_VERSION  NUM_INSTALMENT_NUMBER  \\\n",
              "0     1054186      161674                     1.0                      6   \n",
              "1     1330831      151639                     0.0                     34   \n",
              "2     2085231      193053                     2.0                      1   \n",
              "3     2452527      199697                     1.0                      3   \n",
              "4     2714724      167756                     1.0                      2   \n",
              "\n",
              "   DAYS_INSTALMENT  DAYS_ENTRY_PAYMENT  AMT_INSTALMENT  AMT_PAYMENT  \n",
              "0          -1180.0             -1187.0        6948.360     6948.360  \n",
              "1          -2156.0             -2156.0        1716.525     1716.525  \n",
              "2            -63.0               -63.0       25425.000    25425.000  \n",
              "3          -2418.0             -2426.0       24350.130    24350.130  \n",
              "4          -1383.0             -1366.0        2165.040     2160.585  "
            ]
          },
          "metadata": {
            "tags": []
          },
          "execution_count": 26
        }
      ]
    },
    {
      "metadata": {
        "id": "lTb_uX9Jlh9u",
        "colab_type": "code",
        "colab": {
          "base_uri": "https://localhost:8080/",
          "height": 173
        },
        "outputId": "236eac1c-06c6-4657-b17a-076bac28e13c"
      },
      "cell_type": "code",
      "source": [
        "data.dtypes"
      ],
      "execution_count": 27,
      "outputs": [
        {
          "output_type": "execute_result",
          "data": {
            "text/plain": [
              "SK_ID_PREV                  int64\n",
              "SK_ID_CURR                  int64\n",
              "NUM_INSTALMENT_VERSION    float64\n",
              "NUM_INSTALMENT_NUMBER       int64\n",
              "DAYS_INSTALMENT           float64\n",
              "DAYS_ENTRY_PAYMENT        float64\n",
              "AMT_INSTALMENT            float64\n",
              "AMT_PAYMENT               float64\n",
              "dtype: object"
            ]
          },
          "metadata": {
            "tags": []
          },
          "execution_count": 27
        }
      ]
    },
    {
      "metadata": {
        "id": "B1abGU8Om-UF",
        "colab_type": "code",
        "colab": {
          "base_uri": "https://localhost:8080/",
          "height": 35
        },
        "outputId": "bdb5d45e-c4e8-4831-9ee1-aeeb7420a279"
      },
      "cell_type": "code",
      "source": [
        "data.shape"
      ],
      "execution_count": 32,
      "outputs": [
        {
          "output_type": "execute_result",
          "data": {
            "text/plain": [
              "(13605401, 8)"
            ]
          },
          "metadata": {
            "tags": []
          },
          "execution_count": 32
        }
      ]
    },
    {
      "metadata": {
        "id": "grFwetFCqZii",
        "colab_type": "code",
        "colab": {
          "base_uri": "https://localhost:8080/",
          "height": 35
        },
        "outputId": "a84649c5-c153-4706-9321-698286801e00"
      },
      "cell_type": "code",
      "source": [
        "len(data['SK_ID_PREV'].unique())"
      ],
      "execution_count": 37,
      "outputs": [
        {
          "output_type": "execute_result",
          "data": {
            "text/plain": [
              "997752"
            ]
          },
          "metadata": {
            "tags": []
          },
          "execution_count": 37
        }
      ]
    },
    {
      "metadata": {
        "id": "VngK5ZbxqszV",
        "colab_type": "code",
        "colab": {
          "base_uri": "https://localhost:8080/",
          "height": 35
        },
        "outputId": "30011346-8bb3-41c2-fe08-b484ebc02176"
      },
      "cell_type": "code",
      "source": [
        "len(data['SK_ID_CURR'].unique())"
      ],
      "execution_count": 38,
      "outputs": [
        {
          "output_type": "execute_result",
          "data": {
            "text/plain": [
              "339587"
            ]
          },
          "metadata": {
            "tags": []
          },
          "execution_count": 38
        }
      ]
    },
    {
      "metadata": {
        "id": "hSkmSE5Wl9SU",
        "colab_type": "text"
      },
      "cell_type": "markdown",
      "source": [
        "## **`Figure Out Missiong Values`**"
      ]
    },
    {
      "metadata": {
        "id": "OTl95z8ol6pd",
        "colab_type": "code",
        "colab": {
          "base_uri": "https://localhost:8080/",
          "height": 173
        },
        "outputId": "04c0192d-83e0-4660-d17e-016c45485b08"
      },
      "cell_type": "code",
      "source": [
        "data_null_value_summary = data.isnull().sum()\n",
        "print(data_null_value_summary)"
      ],
      "execution_count": 31,
      "outputs": [
        {
          "output_type": "stream",
          "text": [
            "SK_ID_PREV                   0\n",
            "SK_ID_CURR                   0\n",
            "NUM_INSTALMENT_VERSION       0\n",
            "NUM_INSTALMENT_NUMBER        0\n",
            "DAYS_INSTALMENT              0\n",
            "DAYS_ENTRY_PAYMENT        2905\n",
            "AMT_INSTALMENT               0\n",
            "AMT_PAYMENT               2905\n",
            "dtype: int64\n"
          ],
          "name": "stdout"
        }
      ]
    },
    {
      "metadata": {
        "id": "_YJ_7o1KmflF",
        "colab_type": "text"
      },
      "cell_type": "markdown",
      "source": [
        "In the installments_payments table, there are 8 columns and only \"DAYW_ENTRY_PAYMENT\" and \"AMPT_PAYMENT\" have missing values, 2905 for each. Considering we have 1,360,5401 rows, we probably just need to drop these missing values. "
      ]
    },
    {
      "metadata": {
        "id": "02-u8E8ioF2G",
        "colab_type": "text"
      },
      "cell_type": "markdown",
      "source": [
        "Recall the introduction of this dataset from Kaggle:\n",
        "\n",
        "*Repayment history for the previously disbursed credits in Home Credit related to the loans in our sample.\n",
        "There is \n",
        "\n",
        "\n",
        "\n",
        "\n",
        "*   a) one row for every payment that was made plus \n",
        "*   b) one row each for missed payment.\n",
        "*   c) One row is equivalent to one payment of one installment OR one installment corresponding to one payment of one previous Home Credit credit related to loans in our sample. *\""
      ]
    },
    {
      "metadata": {
        "id": "OZkZ2O0wofnN",
        "colab_type": "code",
        "colab": {
          "base_uri": "https://localhost:8080/",
          "height": 294
        },
        "outputId": "340f0a0f-bd4f-4997-d8fe-9ddd99534bf1"
      },
      "cell_type": "code",
      "source": [
        "data.describe()"
      ],
      "execution_count": 33,
      "outputs": [
        {
          "output_type": "execute_result",
          "data": {
            "text/html": [
              "<div>\n",
              "<style scoped>\n",
              "    .dataframe tbody tr th:only-of-type {\n",
              "        vertical-align: middle;\n",
              "    }\n",
              "\n",
              "    .dataframe tbody tr th {\n",
              "        vertical-align: top;\n",
              "    }\n",
              "\n",
              "    .dataframe thead th {\n",
              "        text-align: right;\n",
              "    }\n",
              "</style>\n",
              "<table border=\"1\" class=\"dataframe\">\n",
              "  <thead>\n",
              "    <tr style=\"text-align: right;\">\n",
              "      <th></th>\n",
              "      <th>SK_ID_PREV</th>\n",
              "      <th>SK_ID_CURR</th>\n",
              "      <th>NUM_INSTALMENT_VERSION</th>\n",
              "      <th>NUM_INSTALMENT_NUMBER</th>\n",
              "      <th>DAYS_INSTALMENT</th>\n",
              "      <th>DAYS_ENTRY_PAYMENT</th>\n",
              "      <th>AMT_INSTALMENT</th>\n",
              "      <th>AMT_PAYMENT</th>\n",
              "    </tr>\n",
              "  </thead>\n",
              "  <tbody>\n",
              "    <tr>\n",
              "      <th>count</th>\n",
              "      <td>1.360540e+07</td>\n",
              "      <td>1.360540e+07</td>\n",
              "      <td>1.360540e+07</td>\n",
              "      <td>1.360540e+07</td>\n",
              "      <td>1.360540e+07</td>\n",
              "      <td>1.360250e+07</td>\n",
              "      <td>1.360540e+07</td>\n",
              "      <td>1.360250e+07</td>\n",
              "    </tr>\n",
              "    <tr>\n",
              "      <th>mean</th>\n",
              "      <td>1.903365e+06</td>\n",
              "      <td>2.784449e+05</td>\n",
              "      <td>8.566373e-01</td>\n",
              "      <td>1.887090e+01</td>\n",
              "      <td>-1.042270e+03</td>\n",
              "      <td>-1.051114e+03</td>\n",
              "      <td>1.705091e+04</td>\n",
              "      <td>1.723822e+04</td>\n",
              "    </tr>\n",
              "    <tr>\n",
              "      <th>std</th>\n",
              "      <td>5.362029e+05</td>\n",
              "      <td>1.027183e+05</td>\n",
              "      <td>1.035216e+00</td>\n",
              "      <td>2.666407e+01</td>\n",
              "      <td>8.009463e+02</td>\n",
              "      <td>8.005859e+02</td>\n",
              "      <td>5.057025e+04</td>\n",
              "      <td>5.473578e+04</td>\n",
              "    </tr>\n",
              "    <tr>\n",
              "      <th>min</th>\n",
              "      <td>1.000001e+06</td>\n",
              "      <td>1.000010e+05</td>\n",
              "      <td>0.000000e+00</td>\n",
              "      <td>1.000000e+00</td>\n",
              "      <td>-2.922000e+03</td>\n",
              "      <td>-4.921000e+03</td>\n",
              "      <td>0.000000e+00</td>\n",
              "      <td>0.000000e+00</td>\n",
              "    </tr>\n",
              "    <tr>\n",
              "      <th>25%</th>\n",
              "      <td>1.434191e+06</td>\n",
              "      <td>1.896390e+05</td>\n",
              "      <td>0.000000e+00</td>\n",
              "      <td>4.000000e+00</td>\n",
              "      <td>-1.654000e+03</td>\n",
              "      <td>-1.662000e+03</td>\n",
              "      <td>4.226085e+03</td>\n",
              "      <td>3.398265e+03</td>\n",
              "    </tr>\n",
              "    <tr>\n",
              "      <th>50%</th>\n",
              "      <td>1.896520e+06</td>\n",
              "      <td>2.786850e+05</td>\n",
              "      <td>1.000000e+00</td>\n",
              "      <td>8.000000e+00</td>\n",
              "      <td>-8.180000e+02</td>\n",
              "      <td>-8.270000e+02</td>\n",
              "      <td>8.884080e+03</td>\n",
              "      <td>8.125515e+03</td>\n",
              "    </tr>\n",
              "    <tr>\n",
              "      <th>75%</th>\n",
              "      <td>2.369094e+06</td>\n",
              "      <td>3.675300e+05</td>\n",
              "      <td>1.000000e+00</td>\n",
              "      <td>1.900000e+01</td>\n",
              "      <td>-3.610000e+02</td>\n",
              "      <td>-3.700000e+02</td>\n",
              "      <td>1.671021e+04</td>\n",
              "      <td>1.610842e+04</td>\n",
              "    </tr>\n",
              "    <tr>\n",
              "      <th>max</th>\n",
              "      <td>2.843499e+06</td>\n",
              "      <td>4.562550e+05</td>\n",
              "      <td>1.780000e+02</td>\n",
              "      <td>2.770000e+02</td>\n",
              "      <td>-1.000000e+00</td>\n",
              "      <td>-1.000000e+00</td>\n",
              "      <td>3.771488e+06</td>\n",
              "      <td>3.771488e+06</td>\n",
              "    </tr>\n",
              "  </tbody>\n",
              "</table>\n",
              "</div>"
            ],
            "text/plain": [
              "         SK_ID_PREV    SK_ID_CURR  NUM_INSTALMENT_VERSION  \\\n",
              "count  1.360540e+07  1.360540e+07            1.360540e+07   \n",
              "mean   1.903365e+06  2.784449e+05            8.566373e-01   \n",
              "std    5.362029e+05  1.027183e+05            1.035216e+00   \n",
              "min    1.000001e+06  1.000010e+05            0.000000e+00   \n",
              "25%    1.434191e+06  1.896390e+05            0.000000e+00   \n",
              "50%    1.896520e+06  2.786850e+05            1.000000e+00   \n",
              "75%    2.369094e+06  3.675300e+05            1.000000e+00   \n",
              "max    2.843499e+06  4.562550e+05            1.780000e+02   \n",
              "\n",
              "       NUM_INSTALMENT_NUMBER  DAYS_INSTALMENT  DAYS_ENTRY_PAYMENT  \\\n",
              "count           1.360540e+07     1.360540e+07        1.360250e+07   \n",
              "mean            1.887090e+01    -1.042270e+03       -1.051114e+03   \n",
              "std             2.666407e+01     8.009463e+02        8.005859e+02   \n",
              "min             1.000000e+00    -2.922000e+03       -4.921000e+03   \n",
              "25%             4.000000e+00    -1.654000e+03       -1.662000e+03   \n",
              "50%             8.000000e+00    -8.180000e+02       -8.270000e+02   \n",
              "75%             1.900000e+01    -3.610000e+02       -3.700000e+02   \n",
              "max             2.770000e+02    -1.000000e+00       -1.000000e+00   \n",
              "\n",
              "       AMT_INSTALMENT   AMT_PAYMENT  \n",
              "count    1.360540e+07  1.360250e+07  \n",
              "mean     1.705091e+04  1.723822e+04  \n",
              "std      5.057025e+04  5.473578e+04  \n",
              "min      0.000000e+00  0.000000e+00  \n",
              "25%      4.226085e+03  3.398265e+03  \n",
              "50%      8.884080e+03  8.125515e+03  \n",
              "75%      1.671021e+04  1.610842e+04  \n",
              "max      3.771488e+06  3.771488e+06  "
            ]
          },
          "metadata": {
            "tags": []
          },
          "execution_count": 33
        }
      ]
    },
    {
      "metadata": {
        "id": "KbxTTFPareyv",
        "colab_type": "code",
        "colab": {
          "base_uri": "https://localhost:8080/",
          "height": 314
        },
        "outputId": "9d4f564d-8472-4fd3-c857-f0082859faa3"
      },
      "cell_type": "code",
      "source": [
        "data.corr()"
      ],
      "execution_count": 39,
      "outputs": [
        {
          "output_type": "execute_result",
          "data": {
            "text/html": [
              "<div>\n",
              "<style scoped>\n",
              "    .dataframe tbody tr th:only-of-type {\n",
              "        vertical-align: middle;\n",
              "    }\n",
              "\n",
              "    .dataframe tbody tr th {\n",
              "        vertical-align: top;\n",
              "    }\n",
              "\n",
              "    .dataframe thead th {\n",
              "        text-align: right;\n",
              "    }\n",
              "</style>\n",
              "<table border=\"1\" class=\"dataframe\">\n",
              "  <thead>\n",
              "    <tr style=\"text-align: right;\">\n",
              "      <th></th>\n",
              "      <th>SK_ID_PREV</th>\n",
              "      <th>SK_ID_CURR</th>\n",
              "      <th>NUM_INSTALMENT_VERSION</th>\n",
              "      <th>NUM_INSTALMENT_NUMBER</th>\n",
              "      <th>DAYS_INSTALMENT</th>\n",
              "      <th>DAYS_ENTRY_PAYMENT</th>\n",
              "      <th>AMT_INSTALMENT</th>\n",
              "      <th>AMT_PAYMENT</th>\n",
              "    </tr>\n",
              "  </thead>\n",
              "  <tbody>\n",
              "    <tr>\n",
              "      <th>SK_ID_PREV</th>\n",
              "      <td>1.000000</td>\n",
              "      <td>0.002132</td>\n",
              "      <td>0.000685</td>\n",
              "      <td>-0.002095</td>\n",
              "      <td>0.003748</td>\n",
              "      <td>0.003734</td>\n",
              "      <td>0.002042</td>\n",
              "      <td>0.001887</td>\n",
              "    </tr>\n",
              "    <tr>\n",
              "      <th>SK_ID_CURR</th>\n",
              "      <td>0.002132</td>\n",
              "      <td>1.000000</td>\n",
              "      <td>0.000480</td>\n",
              "      <td>-0.000548</td>\n",
              "      <td>0.001191</td>\n",
              "      <td>0.001215</td>\n",
              "      <td>-0.000226</td>\n",
              "      <td>-0.000124</td>\n",
              "    </tr>\n",
              "    <tr>\n",
              "      <th>NUM_INSTALMENT_VERSION</th>\n",
              "      <td>0.000685</td>\n",
              "      <td>0.000480</td>\n",
              "      <td>1.000000</td>\n",
              "      <td>-0.323414</td>\n",
              "      <td>0.130244</td>\n",
              "      <td>0.128124</td>\n",
              "      <td>0.168109</td>\n",
              "      <td>0.177176</td>\n",
              "    </tr>\n",
              "    <tr>\n",
              "      <th>NUM_INSTALMENT_NUMBER</th>\n",
              "      <td>-0.002095</td>\n",
              "      <td>-0.000548</td>\n",
              "      <td>-0.323414</td>\n",
              "      <td>1.000000</td>\n",
              "      <td>0.090286</td>\n",
              "      <td>0.094305</td>\n",
              "      <td>-0.089640</td>\n",
              "      <td>-0.087664</td>\n",
              "    </tr>\n",
              "    <tr>\n",
              "      <th>DAYS_INSTALMENT</th>\n",
              "      <td>0.003748</td>\n",
              "      <td>0.001191</td>\n",
              "      <td>0.130244</td>\n",
              "      <td>0.090286</td>\n",
              "      <td>1.000000</td>\n",
              "      <td>0.999491</td>\n",
              "      <td>0.125985</td>\n",
              "      <td>0.127018</td>\n",
              "    </tr>\n",
              "    <tr>\n",
              "      <th>DAYS_ENTRY_PAYMENT</th>\n",
              "      <td>0.003734</td>\n",
              "      <td>0.001215</td>\n",
              "      <td>0.128124</td>\n",
              "      <td>0.094305</td>\n",
              "      <td>0.999491</td>\n",
              "      <td>1.000000</td>\n",
              "      <td>0.125555</td>\n",
              "      <td>0.126602</td>\n",
              "    </tr>\n",
              "    <tr>\n",
              "      <th>AMT_INSTALMENT</th>\n",
              "      <td>0.002042</td>\n",
              "      <td>-0.000226</td>\n",
              "      <td>0.168109</td>\n",
              "      <td>-0.089640</td>\n",
              "      <td>0.125985</td>\n",
              "      <td>0.125555</td>\n",
              "      <td>1.000000</td>\n",
              "      <td>0.937191</td>\n",
              "    </tr>\n",
              "    <tr>\n",
              "      <th>AMT_PAYMENT</th>\n",
              "      <td>0.001887</td>\n",
              "      <td>-0.000124</td>\n",
              "      <td>0.177176</td>\n",
              "      <td>-0.087664</td>\n",
              "      <td>0.127018</td>\n",
              "      <td>0.126602</td>\n",
              "      <td>0.937191</td>\n",
              "      <td>1.000000</td>\n",
              "    </tr>\n",
              "  </tbody>\n",
              "</table>\n",
              "</div>"
            ],
            "text/plain": [
              "                        SK_ID_PREV  SK_ID_CURR  NUM_INSTALMENT_VERSION  \\\n",
              "SK_ID_PREV                1.000000    0.002132                0.000685   \n",
              "SK_ID_CURR                0.002132    1.000000                0.000480   \n",
              "NUM_INSTALMENT_VERSION    0.000685    0.000480                1.000000   \n",
              "NUM_INSTALMENT_NUMBER    -0.002095   -0.000548               -0.323414   \n",
              "DAYS_INSTALMENT           0.003748    0.001191                0.130244   \n",
              "DAYS_ENTRY_PAYMENT        0.003734    0.001215                0.128124   \n",
              "AMT_INSTALMENT            0.002042   -0.000226                0.168109   \n",
              "AMT_PAYMENT               0.001887   -0.000124                0.177176   \n",
              "\n",
              "                        NUM_INSTALMENT_NUMBER  DAYS_INSTALMENT  \\\n",
              "SK_ID_PREV                          -0.002095         0.003748   \n",
              "SK_ID_CURR                          -0.000548         0.001191   \n",
              "NUM_INSTALMENT_VERSION              -0.323414         0.130244   \n",
              "NUM_INSTALMENT_NUMBER                1.000000         0.090286   \n",
              "DAYS_INSTALMENT                      0.090286         1.000000   \n",
              "DAYS_ENTRY_PAYMENT                   0.094305         0.999491   \n",
              "AMT_INSTALMENT                      -0.089640         0.125985   \n",
              "AMT_PAYMENT                         -0.087664         0.127018   \n",
              "\n",
              "                        DAYS_ENTRY_PAYMENT  AMT_INSTALMENT  AMT_PAYMENT  \n",
              "SK_ID_PREV                        0.003734        0.002042     0.001887  \n",
              "SK_ID_CURR                        0.001215       -0.000226    -0.000124  \n",
              "NUM_INSTALMENT_VERSION            0.128124        0.168109     0.177176  \n",
              "NUM_INSTALMENT_NUMBER             0.094305       -0.089640    -0.087664  \n",
              "DAYS_INSTALMENT                   0.999491        0.125985     0.127018  \n",
              "DAYS_ENTRY_PAYMENT                1.000000        0.125555     0.126602  \n",
              "AMT_INSTALMENT                    0.125555        1.000000     0.937191  \n",
              "AMT_PAYMENT                       0.126602        0.937191     1.000000  "
            ]
          },
          "metadata": {
            "tags": []
          },
          "execution_count": 39
        }
      ]
    },
    {
      "metadata": {
        "id": "B1KOa4y-trL5",
        "colab_type": "code",
        "colab": {}
      },
      "cell_type": "code",
      "source": [
        "import seaborn as sns"
      ],
      "execution_count": 0,
      "outputs": []
    },
    {
      "metadata": {
        "id": "5kqyZQ6ttsiI",
        "colab_type": "code",
        "colab": {
          "base_uri": "https://localhost:8080/",
          "height": 498
        },
        "outputId": "f0331157-adb9-4a2c-bbcc-13d54d3a1734"
      },
      "cell_type": "code",
      "source": [
        "sns.heatmap(data.corr())"
      ],
      "execution_count": 41,
      "outputs": [
        {
          "output_type": "execute_result",
          "data": {
            "text/plain": [
              "<matplotlib.axes._subplots.AxesSubplot at 0x7fba29bb0510>"
            ]
          },
          "metadata": {
            "tags": []
          },
          "execution_count": 41
        },
        {
          "output_type": "display_data",
          "data": {
            "image/png": "[encoded data removed]",
            "text/plain": [
              "<matplotlib.figure.Figure at 0x7fba29b75250>"
            ]
          },
          "metadata": {
            "tags": []
          }
        }
      ]
    }
  ]
}